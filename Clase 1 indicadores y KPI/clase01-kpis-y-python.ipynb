{
 "cells": [
  {
   "cell_type": "markdown",
   "id": "88ba831d",
   "metadata": {},
   "source": [
    "# KPIs, OKRs y Balanced Scorecard\n",
    "\n",
    "En esta sesión introduciremos las herramientas que usarémos a traves del curso, como Jupyter Notebook y paqueterías de Python, como Pandas. Verémos que son los KPIs, por que son importantes, y como algunas estructuras de trabajo como el Balanced Scorecard (BSC) y los Objetivos y Principales resultados (OKRs) son usados en las estrategias de negocio.\n",
    "\n",
    "## Objetivos del laboratorio\n",
    "- Definir Indicadores Principales de Desempeño (KPIs).\n",
    "- Entender la aplicación del BSC y los OKRs en la selección y evaluación de KPIs.\n",
    "- Describir el proyecto final, involucrando una aplicación en el mundo real de los conceptos que verémos en el laboratorio.\n",
    "- Introducir las herramientas para análisis de datos."
   ]
  },
  {
   "cell_type": "markdown",
   "id": "14aa13ce",
   "metadata": {},
   "source": [
    "## ¿Que son los indicadores?\n",
    "\n",
    "Los indicadores, en un contexto de negocio, son métricas o puntos de datos para cuantificar el desempeño o predecir resultados. Son herramientas importantes para administrar y tomar decisiones, dando una imagen clara del desempeño actual de la compañía comparado con sus objetivos estratégicos. Pueden variar mucho dependiendo del sector, enfoque operativo, y objetivos estratégicos. Pueden medir desempeño financiero, satisfacción del cliente, eficacia operativa, o incluso compromiso de los empleados, incluyendo muchos mas aspectos.\n",
    "\n",
    "Representacion monetario de la realidad\n",
    "\n",
    "**EJEMPLOS ALUMNOS**"
   ]
  },
  {
   "cell_type": "markdown",
   "id": "8787fae0",
   "metadata": {},
   "source": [
    "Bajar dinero es recibir una inversion sin generar por el momento\n"
   ]
  },
  {
   "cell_type": "markdown",
   "id": "1a1d127e",
   "metadata": {},
   "source": [
    "\n",
    "### Ejemplos de como se definen estrategias en entornos empresariales usando indicadores: Balanced Scorecard (BSC) y Objectives and Key Results (OKRs)\n",
    "\n",
    "- **Key Performance Indicator (KPI):** Los KPIs son valores medibles que demuestran que tan efectiva es una compañia en lograr objetivos de negocio claves. Las organizaciones usan KPIs en multiples niveles para evaluar su éxito en alcanzar objetivos. KPIs de alto nivel pueden enfocarse en el desempeño total de la empresa, mientras que KPIs de bajo nivel pueden enfocarse en procesos de departamentos como ventas, marketing, recursos humanos, soporte y otros.\n",
    "<img style=\"margin: 0px 0px 15px 15px;\" src=\"https://images.surferseo.art/28e3e411-f9d6-42b0-bda3-1c5c2718021c.png\" width=\"400px\" height=\"400px\" />\n",
    "\n",
    "KPI es un indicador que te representara numericamente tu objetivo\n",
    "\n",
    "un indicador es Representacion monetario de la realidad\n",
    "\n",
    "\n",
    "- **Balanced Scorecard (BSC):** Sistema de planeación estratégica y administrción usada para alinear las actividades del negocio a la visión y estrategia de la organización, mejorar comunicaciones internas y externas, y monitorear el desempeño de la organización contra los objetivos.\n",
    "<img style=\"margin: 0px 0px 15px 15px;\" src=\"https://www.wevalgo.com/images/easyblog_articles/132/balanced-scorecard-747c06ff7dccc168ef4a9a6bfd21daaf.jpeg\" width=\"400px\" height=\"400px\" />\n",
    "\n",
    "- **Objectives and Key Results (OKRs):** Una estructura de trabajo para definir y darle seguimiento a objetivos y resultados. Ha sido usado por bastantes compañias de alto perfil para asegurarse de que se están enfocando en los aspectos mas relevantes en toda la organización.\n",
    "<img style=\"margin: 0px 0px 15px 15px;\" src=\"https://images.ctfassets.net/mu244eycyvsr/fzNlvE9CjloFmmiykpD5o/1df6867be378bea9b13430821b013094/WM-OKR_Superpowers.png?w=1600&q=50&fm=webp\" width=\"400px\" height=\"400px\" />\n",
    "\n",
    "**Vamos abriendo el reporte de laboratorio 1**\n",
    "\n",
    "BSC: Te ayuda a plantear tus objetivos\n",
    "OKRs: ponerle numero al objetivo\n",
    "\n",
    "Cada KPI se puede diviri en cada area de la empresa\n"
   ]
  },
  {
   "cell_type": "markdown",
   "id": "31828aae",
   "metadata": {},
   "source": [
    "## Introducción a la manipulación de datos con pandas\n",
    "\n",
    "<img style=\"float: right; margin: 0px 0px 15px 15px;\" src=\"https://upload.wikimedia.org/wikipedia/commons/e/ed/Pandas_logo.svg\" width=\"400px\" height=\"400px\" />\n",
    "\n",
    "El verdadero poder de python viene con sus librerías. Ya en cursos pasados han aprendido varios aspectos relativos a las librerías ([NumPy](https://www.numpy.org/) y [matplotlib](https://matplotlib.org/)). En estos enlaces pueden encontrar la documentación oficial para revisar qué más pueden hacer con estas librerías. También el `help` puede ser un buen punto de partida para conocer qué más cosas pueden realizar.\n",
    "\n",
    "Usaremos la librería de Python para análisis de datos: **Pandas**. Durante el transcurso de la asignatura haremos uso extensivo de datos, por tanto es importante tener un manejo básico de pandas.\n",
    "\n",
    "Referencias:\n",
    "- https://pandas.pydata.org/\n",
    "- https://towardsdatascience.com/data-science-with-python-intro-to-loading-and-subsetting-data-with-pandas-9f26895ddd7f"
   ]
  },
  {
   "cell_type": "markdown",
   "id": "3bdeb779",
   "metadata": {},
   "source": [
    "Normalmente trabajamos con grandes cantidades de datos (precios). \n",
    "\n",
    "Los datos que debemos cargar pueden guardarse de muchas maneras distintas: archivos CSV, archivos de Excel, etcétera. Incluso, los datos pueden estar disponibles a través de servicios web. \n",
    "\n",
    "Para trabajar con datos, se hace necesario representarlos en una estructura tabular (cualquier cosa con forma de tabla con filas y columnas).\n",
    "\n",
    "En algunos casos, los datos ya están en forma tabular y es más fácil cargarlos. En otros, debemos trabajar con datos no estructurados o que no están organizados de una manera determinada (texto plano, imágenes, audio, etcétera).\n",
    "\n",
    "En esta clase nos vamos a concentrar en cargar datos desde archivos CSV (valores separados por coma)."
   ]
  },
  {
   "cell_type": "markdown",
   "id": "b47013f5",
   "metadata": {},
   "source": [
    "Pandas es una librería de código abierto para el lenguaje de programación Python, desarrollada por Wes McKinney. Es una librería muy eficiente y proporciona estructuras de datos y herramientas de análisis muy fáciles de usar.\n",
    "\n",
    "Como las librerías que hemos visto antes, Pandas viene instalado por defecto con Anaconda, así que lo único que tenemos que hacer para empezar a trabajar con ella es importarla. La comunidad utiliza normalmente la abreviación pd para referirse a pandas:"
   ]
  },
  {
   "cell_type": "code",
   "execution_count": null,
   "id": "50035bee",
   "metadata": {},
   "outputs": [],
   "source": [
    "# Importar pandas\n",
    "import pandas as pd"
   ]
  },
  {
   "cell_type": "markdown",
   "id": "fd3b00b5",
   "metadata": {},
   "source": [
    "Los **pd.DataFrames** son los objetos por excelencia de pandas para manipular datos. Son eficientes y rápidos. Son la estructura de datos donde pandas carga los diferentes formatos de datos: cuando nuestros datos están limpios y estructurados, cada fila representa una observación, y cada columna una variable o característica. Tanto las filas como las columnas pueden tener etiquetas.\n",
    "\n",
    "En esta clase vamos a trabajar con datos pertenecientes a ejemplos de la librería featuretools [en esta página](https://docs.featuretools.com/loading_data/using_entitysets.html). \n",
    "\n",
    "En esta clase, además de importar datos, aprenderemos a:\n",
    "- seleccionar subconjuntos de datos;\n",
    "- filtrar variables por categorías;\n",
    "- entre otros.\n"
   ]
  },
  {
   "cell_type": "markdown",
   "id": "a44947f2",
   "metadata": {},
   "source": [
    "### 1. Importar datos\n",
    "Vamos a seguir paso a paso lo que se hace inicialmente en la mayoría de casos que se quieren analizar indicadores: Importar archivos csv y manipularlos."
   ]
  },
  {
   "cell_type": "code",
   "execution_count": null,
   "id": "669bc6d9",
   "metadata": {},
   "outputs": [],
   "source": [
    "# Primero vamos a instalar pandas en caso de que no lo tengan instalado\n",
    "!pip install pandas"
   ]
  },
  {
   "cell_type": "code",
   "execution_count": null,
   "id": "40b4ab6a",
   "metadata": {},
   "outputs": [],
   "source": [
    "# Importar pandas\n",
    "import pandas as pd"
   ]
  },
  {
   "cell_type": "code",
   "execution_count": null,
   "id": "eb1afa06",
   "metadata": {},
   "outputs": [],
   "source": [
    "# Ayuda en la función pd.read_csv()\n",
    "help(pd.read_csv)"
   ]
  },
  {
   "cell_type": "code",
   "execution_count": null,
   "id": "ec463b36",
   "metadata": {},
   "outputs": [],
   "source": [
    "# Cargando datos ejemplo\n",
    "pd.read_csv(\"data/customers_data.csv\")"
   ]
  },
  {
   "cell_type": "code",
   "execution_count": null,
   "id": "1bd80f8a",
   "metadata": {},
   "outputs": [],
   "source": [
    "# Importar customers_data.csv\n",
    "customers = pd.read_csv(\"data/customers_data.csv\")\n",
    "print(customers)"
   ]
  },
  {
   "cell_type": "markdown",
   "id": "9ee98909",
   "metadata": {},
   "source": [
    "Bien, ya tenemos los datos cargados, sin embargo, se ve algo raro. \n",
    "\n",
    "¿Qué es esta columna \"Unnamed: 0\"? (abrir el CSV)\n",
    "\n",
    "Para especificar que esta columna corresponde al índice, podemos usar el argumento `index_col`."
   ]
  },
  {
   "cell_type": "code",
   "execution_count": null,
   "id": "b2bbf34b",
   "metadata": {},
   "outputs": [],
   "source": [
    "# Importar customers_data.csv, haciendo uso del argumento index_col\n",
    "customers = pd.read_csv(\"data/customers_data.csv\", index_col=[0])\n",
    "customers"
   ]
  },
  {
   "cell_type": "code",
   "execution_count": null,
   "id": "ac2c6c15",
   "metadata": {},
   "outputs": [],
   "source": [
    "# Tipo de objeto con que importa pandas los archivos\n",
    "print(type(customers))"
   ]
  },
  {
   "cell_type": "code",
   "execution_count": null,
   "id": "6f619a29",
   "metadata": {},
   "outputs": [],
   "source": [
    "print(type(\"a\"))"
   ]
  },
  {
   "cell_type": "markdown",
   "id": "9de63543",
   "metadata": {},
   "source": [
    "Ahora nuestro DataFrame luce bien. Sin embargo, podríamos querer indizar nuestro DataFrame directamente por el id de cliente, utilizando el método `set_index()`:"
   ]
  },
  {
   "cell_type": "code",
   "execution_count": null,
   "id": "2770553f",
   "metadata": {},
   "outputs": [],
   "source": [
    "# Usar el método set_index para indizar por el id de cliente\n",
    "customers.set_index('customer_id')"
   ]
  },
  {
   "cell_type": "code",
   "execution_count": null,
   "id": "1ee80e8c",
   "metadata": {},
   "outputs": [],
   "source": [
    "# Revisar que paso con la tabla original\n",
    "customers"
   ]
  },
  {
   "cell_type": "code",
   "execution_count": null,
   "id": "1ba8b9fb",
   "metadata": {},
   "outputs": [],
   "source": [
    "customers = customers.set_index('customer_id')"
   ]
  },
  {
   "cell_type": "code",
   "execution_count": null,
   "id": "913ae093",
   "metadata": {},
   "outputs": [],
   "source": [
    "customers"
   ]
  },
  {
   "cell_type": "markdown",
   "id": "771473b2",
   "metadata": {},
   "source": [
    "### 2. Indización y selección de datos\n",
    "\n",
    "Hay muchas formas de las cuales podemos seleccionar datos de DataFrames. Veremos, de acuerdo al artículo al final de este documento, la forma basada en corchetes ([]) y en los métodos `loc()` y `iloc()`.\n",
    "\n",
    "Con los corchetes, podemos seleccionar ciertas filas, o bien, ciertas columnas. \n",
    "\n",
    "Para una selección de filas, podemos usar el indizado como en las listas: [start_index:end_index:step], recordando que el `end_index` no es inclusivo.\n",
    "\n",
    "Por ejemplo, seleccionar los clientes en las primeras dos filas:"
   ]
  },
  {
   "cell_type": "code",
   "execution_count": null,
   "id": "81d8d97a",
   "metadata": {},
   "outputs": [],
   "source": [
    "customers[:2]\n",
    "# Es equivalente a\n",
    "# customers[0:2]"
   ]
  },
  {
   "cell_type": "code",
   "execution_count": null,
   "id": "03db23b8",
   "metadata": {},
   "outputs": [],
   "source": [
    "customers[2:]"
   ]
  },
  {
   "cell_type": "code",
   "execution_count": null,
   "id": "2dcf2f11",
   "metadata": {},
   "outputs": [],
   "source": [
    "customers['join_date']"
   ]
  },
  {
   "cell_type": "code",
   "execution_count": null,
   "id": "86866e7f",
   "metadata": {},
   "outputs": [],
   "source": [
    "customers[::2]\n",
    "# Esto es equivalente a\n",
    "# customers[0:5:2]"
   ]
  },
  {
   "cell_type": "code",
   "execution_count": null,
   "id": "01bd40e2",
   "metadata": {},
   "outputs": [],
   "source": [
    "# Seleccionar la columna date_of_birth como Series\n",
    "customers['date_of_birth']"
   ]
  },
  {
   "cell_type": "code",
   "execution_count": null,
   "id": "e3fe26d7",
   "metadata": {},
   "outputs": [],
   "source": [
    "print(type(customers[['date_of_birth', 'zip_code']]))"
   ]
  },
  {
   "cell_type": "code",
   "execution_count": null,
   "id": "f7c7900e",
   "metadata": {},
   "outputs": [],
   "source": [
    "# Tipo de objeto pd.Series\n",
    "print(type(customers['date_of_birth']))"
   ]
  },
  {
   "cell_type": "markdown",
   "id": "11a5f79d",
   "metadata": {},
   "source": [
    "Las Series de pandas son arreglos unidimensionales que pueden ser etiquetados. En algunos casos, querremos seleccionar solo una columna pero mantener esta selección en un DataFrame. En este caso podemos pasar una lista con un solo elemento:"
   ]
  },
  {
   "cell_type": "code",
   "execution_count": null,
   "id": "b1f5bab4",
   "metadata": {},
   "outputs": [],
   "source": [
    "# Seleccionar la columna date_of_birth como DataFrame\n",
    "customers[['date_of_birth']]"
   ]
  },
  {
   "cell_type": "code",
   "execution_count": null,
   "id": "eb6d827f",
   "metadata": {},
   "outputs": [],
   "source": [
    "# Tipo de objeto pd.DataFrame\n",
    "print(type(customers[['date_of_birth']]))"
   ]
  },
  {
   "cell_type": "markdown",
   "id": "9137c729",
   "metadata": {},
   "source": [
    "Muy bien, ya vimos que los corchetes son útiles. También existen los poderosos métodos `loc` y `iloc`, que nos dan el poder de seleccionar ambos a la vez: columnas y filas.\n",
    "\n",
    "¿En qué se diferencian?\n",
    "\n",
    "- El método `loc` nos permite seleccionar filas y columnas de nuestros datos basados en etoquetas. Primero, se deben especificar las etiquetas de las filas, y luego las de las columnas.\n",
    "\n",
    "- El método `iloc` nos permite hacer lo mismo pero basado en índices enteros de nuestro DataFrame (como si fueran matrices).\n",
    "\n",
    "Como antes, si queremos seleccionar todas las filas, o columnas, simplemente escribimos `:` en el lugar adecuado.\n",
    "\n",
    "Mejor con ejemplos:"
   ]
  },
  {
   "cell_type": "code",
   "execution_count": null,
   "id": "2dc7ed43",
   "metadata": {},
   "outputs": [],
   "source": [
    "customers.loc[:,'date_of_birth']"
   ]
  },
  {
   "cell_type": "code",
   "execution_count": null,
   "id": "201ea672",
   "metadata": {},
   "outputs": [],
   "source": [
    "# Resetear índice en el lugar\n",
    "customers.reset_index(inplace=True)"
   ]
  },
  {
   "cell_type": "code",
   "execution_count": null,
   "id": "811e931d",
   "metadata": {},
   "outputs": [],
   "source": [
    "# ¿Que pasó con customers?\n",
    "customers"
   ]
  },
  {
   "cell_type": "code",
   "execution_count": null,
   "id": "b2bad56f",
   "metadata": {},
   "outputs": [],
   "source": [
    "customers.index = ['A', 'B', 'C', 'D', 'E']"
   ]
  },
  {
   "cell_type": "code",
   "execution_count": null,
   "id": "e71259d0",
   "metadata": {},
   "outputs": [],
   "source": [
    "customers"
   ]
  },
  {
   "cell_type": "code",
   "execution_count": null,
   "id": "f57f5d6b",
   "metadata": {},
   "outputs": [],
   "source": [
    "customers.iloc[[0,2,3], [3]]"
   ]
  },
  {
   "cell_type": "markdown",
   "id": "a419bdb5",
   "metadata": {},
   "source": [
    "Ahora sí.\n",
    "\n",
    "Seleccionemos el primer cliente con ambos métodos:"
   ]
  },
  {
   "cell_type": "code",
   "execution_count": null,
   "id": "3818344c",
   "metadata": {},
   "outputs": [],
   "source": [
    "# Primer cliente con loc\n",
    "customers.loc['A']"
   ]
  },
  {
   "cell_type": "code",
   "execution_count": null,
   "id": "58e3ea1c",
   "metadata": {},
   "outputs": [],
   "source": [
    "# ¿Cual es la diferencia?\n",
    "customers.loc[['A']]"
   ]
  },
  {
   "cell_type": "code",
   "execution_count": null,
   "id": "c9e16ff7",
   "metadata": {},
   "outputs": [],
   "source": [
    "# Primer cliente con iloc\n",
    "customers.iloc[0]"
   ]
  },
  {
   "cell_type": "code",
   "execution_count": null,
   "id": "4be4fdfa",
   "metadata": {},
   "outputs": [],
   "source": [
    "customers.iloc[[0]]"
   ]
  },
  {
   "cell_type": "markdown",
   "id": "adea8b2c",
   "metadata": {},
   "source": [
    "Ahora, seleccionemos los clientes A y C con ambos métodos:"
   ]
  },
  {
   "cell_type": "code",
   "execution_count": null,
   "id": "ce7985b1",
   "metadata": {},
   "outputs": [],
   "source": [
    "# Clientes A y C con loc\n",
    "customers.loc[['A','C']]"
   ]
  },
  {
   "cell_type": "code",
   "execution_count": null,
   "id": "b46db569",
   "metadata": {},
   "outputs": [],
   "source": [
    "# Clientes A y C con iloc\n",
    "customers.iloc[[0, 2]]"
   ]
  },
  {
   "cell_type": "code",
   "execution_count": null,
   "id": "a561781d",
   "metadata": {},
   "outputs": [],
   "source": [
    "# loc\n",
    "customers.loc[['B', 'E'], ['zip_code', 'join_date']]"
   ]
  },
  {
   "cell_type": "code",
   "execution_count": null,
   "id": "22b92fb2",
   "metadata": {},
   "outputs": [],
   "source": [
    "# iloc\n",
    "customers.iloc[[1, 4], [1, 2]]"
   ]
  },
  {
   "cell_type": "markdown",
   "id": "8f7a7079",
   "metadata": {},
   "source": [
    "¿Qué tal? Ya tenemos varias formas de seleccionar e indexar ciertos datos.\n",
    "\n",
    "Esto es, sin duda, muy útil. Por otra parte, muchas veces queremos obtener cierta información (clientes, en nuestro ejemplo) que cumplan algunos requisitos. Por ejemplo:\n",
    "- que sean mayores de 18 años, o\n",
    "- que su antiguedad en la plataforma sea menor a seis meses, o\n",
    "- que residan en cierta zona,\n",
    "- entre otros.\n",
    "\n",
    "Para ello utilizamos los operadores de comparación (==, >, <, >=, <=, !=).\n",
    "\n",
    "### 3. Filtrado de datos\n",
    "\n",
    "Los operadores de comparación pueden ser utilizados con Series de pandas. \n",
    "\n",
    "Esto resulta ser súper útil para filtrar datos con ciertas condiciones específicas (esto lo veremos enseguida). \n",
    "\n",
    "Por ahora, veremos que al usar operadores de comparación con Series, el resultado será Series booleanas. Es decir, cada elemento de dichas series será `True` si la condición se satisface, y `Falso` de lo contrario.\n",
    "\n",
    "Una vez tenemos la serie boolena, podemos aplicarla para la selección de filas, obteniendo un DataFrame filtrado como resultado.\n",
    "\n",
    "**Ejemplos**\n",
    "\n",
    "¿Cuáles clientes son mayores de 18 años?"
   ]
  },
  {
   "cell_type": "code",
   "execution_count": null,
   "id": "d0f81f21",
   "metadata": {},
   "outputs": [],
   "source": [
    "# Ver tabla\n",
    "customers"
   ]
  },
  {
   "cell_type": "code",
   "execution_count": null,
   "id": "5c380a23",
   "metadata": {},
   "outputs": [],
   "source": [
    "# Adult clients\n",
    "# customers.iloc[:, 3] <= '2004-08-13'\n",
    "# customers.loc[:, 'date_of_birth'] <= '2004-08-13'\n",
    "customers['date_of_birth'] <= '2004-08-13'"
   ]
  },
  {
   "cell_type": "code",
   "execution_count": null,
   "id": "c822b7c2",
   "metadata": {},
   "outputs": [],
   "source": [
    "# Recent joins\n",
    "customers['join_date'] >= '2011-06-01'"
   ]
  },
  {
   "cell_type": "code",
   "execution_count": null,
   "id": "1f0cc091",
   "metadata": {},
   "outputs": [],
   "source": [
    "# Zone\n",
    "customers['zip_code'] == 13244"
   ]
  },
  {
   "cell_type": "code",
   "execution_count": null,
   "id": "3fd6ef0d",
   "metadata": {},
   "outputs": [],
   "source": [
    "# Filtrar por clientes adultos\n",
    "customers[customers['date_of_birth'] <= '2004-08-13']"
   ]
  },
  {
   "cell_type": "code",
   "execution_count": null,
   "id": "fb958936",
   "metadata": {},
   "outputs": [],
   "source": [
    "# Filtrar por registros recientes\n",
    "customers[customers['join_date'] >= '2011-06-01']"
   ]
  },
  {
   "cell_type": "code",
   "execution_count": null,
   "id": "60d46b1e",
   "metadata": {},
   "outputs": [],
   "source": [
    "# Filtrar por zona\n",
    "customers[customers['zip_code'] == 13244]"
   ]
  },
  {
   "cell_type": "markdown",
   "id": "cf3c0290",
   "metadata": {},
   "source": [
    "**¡Excelente!**\n",
    "\n",
    "Los filtrados que acabamos de hacer fueron de una sola condición. Ahora, ¿cómo hacer filtrados con múltiples condiciones?\n",
    "\n",
    "#### 3.1 Filtrado con múltiples condiciones\n",
    "\n",
    "Cuando queremos filtrar datos con múltiples condiciones, podemos usar operadores booleanos (`and`, `or`, `not`), solo con una pequeña modificación. Usamos:\n",
    "\n",
    "- `&` en lugar de `and`,\n",
    "- `|` en lugar de `or`, y\n",
    "- `~` en lugar de `not`.\n",
    "\n",
    "**Ejemplos**\n",
    "\n",
    "Obtener la información de los clientes adultos que vivan en la zona con código postal 13244"
   ]
  },
  {
   "cell_type": "code",
   "execution_count": null,
   "id": "ac878535",
   "metadata": {},
   "outputs": [],
   "source": [
    "# En una sola línea\n",
    "customers[(customers['date_of_birth'] <= '2002-08-25') &\n",
    "          (customers['zip_code'] == 13244)]"
   ]
  },
  {
   "cell_type": "markdown",
   "id": "9ed7b136",
   "metadata": {},
   "source": [
    "Obtener la información de los clientes que sean adultos o que se hayan registrado luego del 6 de Junio del 2011"
   ]
  },
  {
   "cell_type": "code",
   "execution_count": null,
   "id": "56975341",
   "metadata": {},
   "outputs": [],
   "source": [
    "customers[(customers['date_of_birth'] <= '2002-08-25') |\n",
    "          (customers['join_date'] > '2011-06-06')]"
   ]
  },
  {
   "cell_type": "markdown",
   "id": "3fff5e1f",
   "metadata": {},
   "source": [
    "Obtener la información de los clientes que **NO** se hayan registrado en 2011"
   ]
  },
  {
   "cell_type": "code",
   "execution_count": null,
   "id": "53bb01cc",
   "metadata": {},
   "outputs": [],
   "source": [
    "customers[(customers[\"join_date\"] < \"2011-01-01\") |\n",
    "          (customers[\"join_date\"] > \"2011-12-31\")]"
   ]
  },
  {
   "cell_type": "markdown",
   "id": "dec24115",
   "metadata": {},
   "source": [
    "De esta manera, podemos crear condiciones tan complejas y restrictivas como queramos para filtrar nuestros datos.\n",
    "\n",
    "Útil, ¿no?"
   ]
  },
  {
   "cell_type": "markdown",
   "id": "3e9d5e09",
   "metadata": {},
   "source": [
    "<script>\n",
    "  $(document).ready(function(){\n",
    "    $('div.prompt').hide();\n",
    "    $('div.back-to-top').hide();\n",
    "    $('nav#menubar').hide();\n",
    "    $('.breadcrumb').hide();\n",
    "    $('.hidden-print').hide();\n",
    "  });\n",
    "</script>\n",
    "\n",
    "<footer id=\"attribution\" style=\"float:right; color:#808080; background:#fff;\">\n",
    "Created with Jupyter by Carlos Kelly\n",
    "</footer>"
   ]
  }
 ],
 "metadata": {
  "kernelspec": {
   "display_name": "Python 3 (ipykernel)",
   "language": "python",
   "name": "python3"
  },
  "language_info": {
   "codemirror_mode": {
    "name": "ipython",
    "version": 3
   },
   "file_extension": ".py",
   "mimetype": "text/x-python",
   "name": "python",
   "nbconvert_exporter": "python",
   "pygments_lexer": "ipython3",
   "version": "3.9.12"
  }
 },
 "nbformat": 4,
 "nbformat_minor": 5
}
